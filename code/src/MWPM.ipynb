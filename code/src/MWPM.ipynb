{
 "cells": [
  {
   "cell_type": "code",
   "execution_count": 2,
   "metadata": {},
   "outputs": [],
   "source": [
    "import itertools\n",
    "import numpy as np\n",
    "import networkx as nx \n",
    "import matplotlib.pyplot as plt \n",
    "#from ortools.graph.python import linear_sum_assignment"
   ]
  },
  {
   "attachments": {},
   "cell_type": "markdown",
   "metadata": {},
   "source": [
    "## Artificial data"
   ]
  },
  {
   "cell_type": "code",
   "execution_count": 3,
   "metadata": {},
   "outputs": [],
   "source": [
    "nodes = ['A', 'B', 'C', 'D', 'E', 'F']\n",
    "\n",
    "clusters_colors = ['blue', 'orange', 'yellow']\n",
    "\n",
    "assignments_t = [0, 0, 1, 1, 1, 2]\n",
    "assignments_t_plus_1 = [0, 0, 0, 1, 2, 2]"
   ]
  },
  {
   "attachments": {},
   "cell_type": "markdown",
   "metadata": {},
   "source": [
    "## Brute Force Matching"
   ]
  },
  {
   "cell_type": "code",
   "execution_count": 5,
   "metadata": {},
   "outputs": [
    {
     "name": "stdout",
     "output_type": "stream",
     "text": [
      "List_t\n",
      "[['A', 'B'], ['C', 'D', 'E'], ['F']]\n",
      "all permutations\n",
      " [['A', 'B', 'C'], ['D'], ['E', 'F']]\n",
      "List_t_plus_1_matched\n",
      "(['A', 'B', 'C'], ['D'], ['E', 'F'])\n"
     ]
    }
   ],
   "source": [
    "#It returns a list with all the nodes divided in each cluster\n",
    "#try it with:\n",
    "#nodes = ['A', 'B', 'C', 'D', 'E', 'F']\n",
    "#assignments_t = [0, 0, 1, 1, 1, 2]\n",
    "#it returns: [['A', 'B'], ['C', 'D', 'E'], ['F']]]\n",
    "def assign_nodes_to_clusters(nodes, assignments):\n",
    "    clusters = {}\n",
    "    for node, cluster_index in zip(nodes, assignments):\n",
    "        if cluster_index not in clusters:\n",
    "            clusters[cluster_index] = []\n",
    "        clusters[cluster_index].append(node)\n",
    "    return list(clusters.values())\n",
    "\n",
    "\n",
    "\n",
    "#It returns all the possible combinations of clusters\n",
    "#try it with: \n",
    "#clusters = [['A', 'B', 'C'], ['D'], ['E', 'F']]\n",
    "#you have 3 clusters so you will have 3 factorial possible combinations\n",
    "#it returns:\n",
    "#(['A', 'B', 'C'], ['D'], ['E', 'F'])\n",
    "#(['A', 'B', 'C'], ['E', 'F'], ['D'])\n",
    "#(['D'], ['A', 'B', 'C'], ['E', 'F'])\n",
    "#(['D'], ['E', 'F'], ['A', 'B', 'C'])\n",
    "#(['E', 'F'], ['A', 'B', 'C'], ['D'])\n",
    "#(['E', 'F'], ['D'], ['A', 'B', 'C'])\n",
    "def find_combinations(clusters):\n",
    "    permutations = itertools.permutations(clusters)\n",
    "    all_permutations = []\n",
    "    for perm in permutations:\n",
    "        all_permutations.append(perm)\n",
    "        #print(perm)\n",
    "    return all_permutations   \n",
    "\n",
    "\n",
    "\n",
    "#It finds the total utility of the matching between these two lists\n",
    "#try it with these two lists:\n",
    "#list1 = [['A', 'B'], ['C', 'D', 'E'], ['F']]\n",
    "#list2 = [['A', 'B', 'C'], ['D'], ['E', 'F']]\n",
    "#it returns 4\n",
    "def count_common_elements(list1, list2):\n",
    "    common_elements = 0\n",
    "    for i in range(min(len(list1), len(list2))):\n",
    "        common_elements += len(set(list1[i]) & set(list2[i]))\n",
    "    return common_elements\n",
    "\n",
    "\n",
    "#It uses brute force to find the matching with higher total utility value\n",
    "def brute_force_matching(list_t, all_permutations):\n",
    "    max_common_elements = 0\n",
    "    list_t_plus_1_matched = None\n",
    "\n",
    "    for list_t_plus_1 in all_permutations:\n",
    "        common_elements = count_common_elements(list_t, list_t_plus_1)\n",
    "        if common_elements > max_common_elements:\n",
    "            max_common_elements = common_elements\n",
    "            list_t_plus_1_matched = list_t_plus_1\n",
    "    return list_t_plus_1_matched\n",
    "\n",
    "\n",
    "\n",
    "list_t = assign_nodes_to_clusters(nodes, assignments_t)\n",
    "print(\"List_t\")\n",
    "print(list_t)\n",
    "\n",
    "list_t_plus_1 = assign_nodes_to_clusters(nodes, assignments_t_plus_1)\n",
    "\n",
    "all_permutations = find_combinations(list_t_plus_1)\n",
    "print('all permutations\\n',list_t_plus_1)\n",
    "#for perm in all_permutations:\n",
    "#    print(perm)\n",
    "\n",
    "list_t_plus_1_matched = brute_force_matching(list_t, all_permutations)\n",
    "print(\"List_t_plus_1_matched\")\n",
    "print(list_t_plus_1_matched)\n"
   ]
  },
  {
   "attachments": {},
   "cell_type": "markdown",
   "metadata": {},
   "source": [
    "## Using NetworkX Bipartite Matching Minimum Weight Matching library"
   ]
  },
  {
   "cell_type": "code",
   "execution_count": 5,
   "metadata": {},
   "outputs": [
    {
     "name": "stdout",
     "output_type": "stream",
     "text": [
      "[[2. 1. 0.]\n",
      " [0. 1. 0.]\n",
      " [0. 1. 1.]]\n",
      "{1: 4, 2: 5, 3: 6, 4: 1, 5: 2, 6: 3}\n"
     ]
    },
    {
     "data": {
      "image/png": "[encoded data removed]",
      "text/plain": [
       "<Figure size 640x480 with 1 Axes>"
      ]
     },
     "metadata": {},
     "output_type": "display_data"
    }
   ],
   "source": [
    "from networkx.algorithms import bipartite\n",
    "\n",
    "def count_common_elements(list1, list2):\n",
    "    set1 = set(list1)\n",
    "    set2 = set(list2)\n",
    "    return len(set1.intersection(set2))\n",
    "\n",
    "\n",
    "def compute_utility_matrix(list_t_plus_1, list_t):\n",
    "    N_clusters = len(list_t)\n",
    "    matrix = np.zeros((N_clusters, N_clusters))\n",
    "\n",
    "    for i, sublist_t_plus_1 in enumerate(list_t_plus_1):\n",
    "        for j, sublist_t in enumerate(list_t):\n",
    "            matrix[i][j] = count_common_elements(sublist_t_plus_1, sublist_t)\n",
    "    print(matrix)        \n",
    "\n",
    "compute_utility_matrix(list_t_plus_1, list_t)\n",
    "\n",
    "\n",
    "B = nx.DiGraph()\n",
    "\n",
    "top_nodes = [1,2,3]\n",
    "bottom_nodes = [4,5,6]\n",
    "\n",
    "\n",
    "B.add_nodes_from(top_nodes, bipartite=0, color='#C5E0B4')\n",
    "B.add_nodes_from(bottom_nodes, bipartite=1, color='#FFE699')\n",
    "\n",
    "\n",
    "node_pos = nx.bipartite_layout(B, top_nodes)\n",
    "\n",
    "B.add_edge(1, 4, weight=-2, color='b', width=1)\n",
    "B.add_edge(2, 4, weight=-1, color='b', width=1)\n",
    "B.add_edge(3, 4, weight=0, color='b', width=1)\n",
    "B.add_edge(1, 5, weight=0, color='b', width=1)\n",
    "B.add_edge(2, 5, weight=-1, color='b', width=1)\n",
    "B.add_edge(3, 5, weight=0, color='b', width=1)\n",
    "B.add_edge(1, 6, weight=0, color='b', width=1)\n",
    "B.add_edge(2, 6, weight=-1, color='b', width=1)\n",
    "B.add_edge(3, 6, weight=-1, color='b', width=1)\n",
    "\n",
    "my_matching = bipartite.matching.minimum_weight_full_matching(B, top_nodes, \"weight\")\n",
    "print(my_matching)\n",
    "\n",
    "\n",
    "assignments = list(my_matching.items())\n",
    "\n",
    "edge_colors = [\"r\" if edge in assignments else \"#C4C2C6\" for edge in B.edges()]\n",
    "edge_width = [3 if edge in assignments else 1 for edge in B.edges()]\n",
    "\n",
    "\n",
    "node_colors  = list(nx.get_node_attributes(B, 'color').values())\n",
    "nx.draw(B, pos=node_pos, with_labels=True, font_color= 'red', node_size=1000, node_color=node_colors, edge_color=edge_colors, width=edge_width)\n",
    "label1 = nx.get_edge_attributes(B,'weight')\n",
    "nx.draw_networkx_edge_labels(B, node_pos, edge_labels=label1, label_pos=0.85)\n",
    "plt.show()\n",
    "\n"
   ]
  },
  {
   "attachments": {},
   "cell_type": "markdown",
   "metadata": {},
   "source": [
    "## Using Scipy Linear Sum Assignment library (Jonker-Volgenant-Castanon (JVC) algorithm) "
   ]
  },
  {
   "cell_type": "code",
   "execution_count": 19,
   "metadata": {},
   "outputs": [
    {
     "name": "stdout",
     "output_type": "stream",
     "text": [
      "Row index [0 1 2 3] \n",
      "Column Index [3 2 1 0]\n",
      "Total cost =  265\n"
     ]
    }
   ],
   "source": [
    "from scipy.optimize import linear_sum_assignment\n",
    "\n",
    "costs = np.array([\n",
    "    [90, 76, 75, 70],\n",
    "    [35, 85, 55, 65],\n",
    "    [125, 95, 90, 105],\n",
    "    [45, 110, 95, 115]\n",
    "])\n",
    "\n",
    "row_ind, col_ind = linear_sum_assignment(costs)\n",
    "print(\"Row index\", row_ind, '\\nColumn Index', col_ind)\n",
    "print(\"Total cost = \", costs[row_ind, col_ind].sum())"
   ]
  },
  {
   "attachments": {},
   "cell_type": "markdown",
   "metadata": {},
   "source": [
    "## Dynamic Programming"
   ]
  },
  {
   "cell_type": "code",
   "execution_count": 11,
   "metadata": {},
   "outputs": [
    {
     "name": "stdout",
     "output_type": "stream",
     "text": [
      "Massimo valore totale possibile: 8\n",
      "Accoppiamenti:\n",
      "M3 -> F0\n",
      "M2 -> F1\n",
      "M1 -> F2\n"
     ]
    }
   ],
   "source": [
    "def find_max_total_value(matrix):\n",
    "    rows = len(matrix)\n",
    "    cols = len(matrix[0])\n",
    "\n",
    "    # Inizializza la matrice dp e la matrice degli accoppiamenti\n",
    "    dp = [[0 for _ in range(cols + 1)] for _ in range(rows + 1)]\n",
    "    couples = [[-1 for _ in range(cols + 1)] for _ in range(rows + 1)]\n",
    "\n",
    "    # Calcola il massimo valore totale possibile e registra gli accoppiamenti\n",
    "    for i in range(1, rows + 1):\n",
    "        for j in range(1, cols + 1):\n",
    "            max_value = 0\n",
    "            max_k = -1\n",
    "            for k in range(j):\n",
    "                value = dp[i - 1][k] + matrix[i - 1][j - 1]\n",
    "                if value > max_value:\n",
    "                    max_value = value\n",
    "                    max_k = k\n",
    "            dp[i][j] = max_value\n",
    "            couples[i][j] = max_k\n",
    "\n",
    "    # Trova l'indice della femmina migliore per l'ultimo maschio\n",
    "    max_j = -1\n",
    "    max_total_value = 0\n",
    "    for j in range(cols + 1):\n",
    "        if dp[rows][j] > max_total_value:\n",
    "            max_total_value = dp[rows][j]\n",
    "            max_j = j\n",
    "\n",
    "    # Costruisci gli accoppiamenti utilizzando la matrice degli accoppiamenti\n",
    "    pairings = []\n",
    "    for i in range(rows, 0, -1):\n",
    "        pairings.append((f'M{rows - i + 1}', f'F{max_j}'))\n",
    "        max_j = couples[i][max_j]\n",
    "\n",
    "    # Inverti l'ordine degli accoppiamenti per ottenere la sequenza corretta\n",
    "    pairings = pairings[::-1]\n",
    "\n",
    "    return max_total_value, pairings\n",
    "\n",
    "# Esempio di utilizzo con la matrice dei valori degli accoppiamenti\n",
    "matrix = [\n",
    "    [3, 2, 7],   # Persona A: peso 3 per Lavoro X, peso 2 per Lavoro Y, peso 7 per Lavoro Z\n",
    "    [5, 1, 4],   # Persona B: peso 5 per Lavoro X, peso 1 per Lavoro Y, peso 4 per Lavoro Z\n",
    "    [6, 3, 2]\n",
    "]\n",
    "max_total_value, pairings = find_max_total_value(matrix)\n",
    "\n",
    "print(\"Massimo valore totale possibile:\", max_total_value)\n",
    "print(\"Accoppiamenti:\")\n",
    "for male, female in pairings:\n",
    "    print(f\"{male} -> {female}\")\n"
   ]
  }
 ],
 "metadata": {
  "kernelspec": {
   "display_name": "Python 3",
   "language": "python",
   "name": "python3"
  },
  "language_info": {
   "codemirror_mode": {
    "name": "ipython",
    "version": 3
   },
   "file_extension": ".py",
   "mimetype": "text/x-python",
   "name": "python",
   "nbconvert_exporter": "python",
   "pygments_lexer": "ipython3",
   "version": "3.9.16"
  },
  "orig_nbformat": 4,
  "vscode": {
   "interpreter": {
    "hash": "916dbcbb3f70747c44a77c7bcd40155683ae19c65e1c03b4aa3499c5328201f1"
   }
  }
 },
 "nbformat": 4,
 "nbformat_minor": 2
}
